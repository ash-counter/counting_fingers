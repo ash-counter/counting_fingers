{
 "cells": [
  {
   "cell_type": "code",
   "execution_count": 15,
   "metadata": {},
   "outputs": [],
   "source": [
    "import numpy as np\n",
    "import cv2\n",
    "import mediapipe as mp\n",
    "import time\n",
    "import matplotlib.pyplot as plt"
   ]
  },
  {
   "cell_type": "code",
   "execution_count": 13,
   "metadata": {},
   "outputs": [],
   "source": [
    "mpHands=mp.solutions.hands\n",
    "hands=mpHands.Hands()\n",
    "mpDraw=mp.solutions.drawing_utils\n",
    "fourcc = cv2.VideoWriter_fourcc(*'XVID')\n",
    "out = cv2.VideoWriter('output.avi', fourcc, 20.0, (640, 480))"
   ]
  },
  {
   "cell_type": "code",
   "execution_count": 14,
   "metadata": {},
   "outputs": [],
   "source": [
    "curr_t=0\n",
    "prev_t=0\n",
    "tips=[4,8,12,16,20,25,29,33,37,41]\n",
    "video = cv2.VideoCapture(0)\n",
    "while True:\n",
    "    ret, frame = video.read()\n",
    "    imgRGB=cv2.cvtColor(frame,cv2.COLOR_BGR2RGB)\n",
    "    results=hands.process(imgRGB)\n",
    "    #print(results.multi_hand_landmarks)\n",
    "    lmList=[]\n",
    "    if results.multi_handedness:\n",
    "        label = results.multi_handedness[0].classification[0].label  # label gives if hand is left or right\n",
    "           \n",
    "    if results.multi_hand_landmarks:\n",
    "        for hd in results.multi_hand_landmarks:\n",
    "            for idx,lm in enumerate(hd.landmark):\n",
    "                h,w,c=frame.shape\n",
    "                cx,cy=int(lm.x*w),int(lm.y*h)\n",
    "                lmList.append([idx,cx,cy,label]) \n",
    "    \n",
    "        #mpDraw.draw_landmarks(frame,hd,mpHands.HAND_CONNECTIONS)\n",
    "    total=0\n",
    "    if ((len(lmList)!=0) and (len(lmList)<=21)):\n",
    "        if ((lmList[tips[0]][1]<lmList[tips[0]-1][1]) and (lmList[tips[0]][3]=='Right')):\n",
    "            total+=1\n",
    "        elif ((lmList[tips[0]][1]>lmList[tips[0]-1][1]) and (lmList[tips[0]][3]=='Left')):\n",
    "            total+=1\n",
    "        for i in range(1,5):\n",
    "            if ((lmList[tips[i]][2]<lmList[tips[i]-2][2])):\n",
    "                total+=1\n",
    "            \n",
    "    elif ((len(lmList)!=0) and (len(lmList)>21) and (len(lmList)<=42)):\n",
    "        if ((lmList[tips[0]][1]<lmList[tips[0]-1][1]) and (lmList[tips[0]][3]=='Right')):\n",
    "            total+=1\n",
    "        elif ((lmList[tips[0]][1]>lmList[tips[0]-1][1]) and (lmList[tips[0]][3]=='Left')):\n",
    "            total+=1\n",
    "        for i in range(1,5):\n",
    "            if ((lmList[tips[i]][2]<lmList[tips[i]-2][2])):\n",
    "                total+=1\n",
    "        if ((lmList[tips[5]][1]>lmList[tips[5]-1][1]) and (lmList[tips[0]][3]=='Right')):\n",
    "            total+=1\n",
    "        elif ((lmList[tips[5]][1]<lmList[tips[5]-1][1]) and (lmList[tips[0]][3]=='Left')):\n",
    "            total+=1\n",
    "        for i in range(6,10):\n",
    "            if ((lmList[tips[i]][2]<lmList[tips[i]-2][2])):\n",
    "                total+=1\n",
    "    curr_t=time.time()\n",
    "    fps=1/(curr_t-prev_t)\n",
    "    prev_t=curr_t\n",
    "    \n",
    "    hsv = cv2.cvtColor(frame, cv2.COLOR_BGR2HSV)\n",
    "      \n",
    "    \n",
    "    cv2.putText(frame, str(total), (10,78), cv2.FONT_HERSHEY_PLAIN,3,(170,34,256),3)\n",
    "    out.write(frame) \n",
    "    cv2.imshow(\"Foreground\", frame)\n",
    "    # Use the Esc button to quit the operation\n",
    "    k = cv2.waitKey(1)\n",
    "    if k%256 == 27:\n",
    "        break\n",
    "    \n",
    "video.release()\n",
    "out.release() \n",
    "cv2.destroyAllWindows()"
   ]
  }
 ],
 "metadata": {
  "kernelspec": {
   "display_name": "Python 3",
   "language": "python",
   "name": "python3"
  },
  "language_info": {
   "codemirror_mode": {
    "name": "ipython",
    "version": 3
   },
   "file_extension": ".py",
   "mimetype": "text/x-python",
   "name": "python",
   "nbconvert_exporter": "python",
   "pygments_lexer": "ipython3",
   "version": "3.8.8"
  }
 },
 "nbformat": 4,
 "nbformat_minor": 4
}
